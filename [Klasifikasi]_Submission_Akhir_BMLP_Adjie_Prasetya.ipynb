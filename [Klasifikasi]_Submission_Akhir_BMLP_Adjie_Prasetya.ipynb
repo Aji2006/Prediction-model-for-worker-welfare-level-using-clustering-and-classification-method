{
  "cells": [
    {
      "cell_type": "markdown",
      "metadata": {
        "id": "fKADPWcFKlj3"
      },
      "source": [
        "# **1. Import Library**"
      ]
    },
    {
      "cell_type": "markdown",
      "metadata": {
        "id": "LgA3ERnVn84N"
      },
      "source": [
        "Pada tahap ini, Anda perlu mengimpor beberapa pustaka (library) Python yang dibutuhkan untuk analisis data dan pembangunan model machine learning."
      ]
    },
    {
      "cell_type": "code",
      "execution_count": 1,
      "metadata": {
        "id": "BlmvjLY9M4Yj"
      },
      "outputs": [],
      "source": [
        "import pandas as pd\n",
        "import numpy as np\n",
        "import seaborn as sns\n",
        "import matplotlib.pyplot as plt\n",
        "import pandas.api.types\n",
        "import math\n",
        "from scipy.stats import zscore\n",
        "\n",
        "from sklearn.pipeline import Pipeline\n",
        "from sklearn.compose import ColumnTransformer\n",
        "from sklearn.impute import SimpleImputer\n",
        "from sklearn.model_selection import train_test_split, GridSearchCV, RandomizedSearchCV\n",
        "from sklearn.preprocessing import LabelEncoder, StandardScaler, MinMaxScaler, OneHotEncoder\n",
        "from sklearn.neighbors import KNeighborsClassifier, KNeighborsRegressor\n",
        "from sklearn.tree import DecisionTreeClassifier, DecisionTreeRegressor\n",
        "from sklearn.ensemble import RandomForestClassifier, RandomForestRegressor\n",
        "from sklearn.svm import SVC\n",
        "from sklearn.naive_bayes import GaussianNB\n",
        "from sklearn.metrics import confusion_matrix, accuracy_score, precision_score, recall_score, f1_score\n",
        "from sklearn.metrics import classification_report, confusion_matrix, roc_auc_score, ConfusionMatrixDisplay\n",
        "from skopt import BayesSearchCV\n",
        "from skopt.space import Integer, Real\n",
        "from imblearn.over_sampling import SMOTE\n",
        "from sklearn.metrics import classification_report\n",
        "from sklearn.metrics import mean_absolute_error, mean_squared_error, r2_score\n",
        "from sklearn.impute import SimpleImputer\n",
        "from xgboost import XGBClassifier, XGBRegressor\n",
        "from lifelines.utils import concordance_index\n",
        "from sklearn.cluster import KMeans\n",
        "from yellowbrick.cluster import KElbowVisualizer\n",
        "from sklearn.metrics import silhouette_score\n",
        "from imblearn.under_sampling import RandomUnderSampler\n",
        "\n",
        "# JCOPML Package\n",
        "from jcopml.plot import plot_missing_value\n",
        "from jcopml.pipeline import num_pipe, cat_pipe\n",
        "from jcopml.tuning import random_search_params as rsp\n",
        "from jcopml.feature_importance import mean_loss_decrease\n",
        "from jcopml.feature_importance import mean_score_decrease\n",
        "from jcopml.tuning import bayes_search_params as bsp\n",
        "from jcopml.tuning import grid_search_params as gsp"
      ]
    },
    {
      "cell_type": "markdown",
      "metadata": {
        "id": "f3YIEnAFKrKL"
      },
      "source": [
        "# **2. Memuat Dataset dari Hasil Clustering**"
      ]
    },
    {
      "cell_type": "markdown",
      "metadata": {
        "id": "Ey3ItwTen_7E"
      },
      "source": [
        "Memuat dataset hasil clustering dari file CSV ke dalam variabel DataFrame."
      ]
    },
    {
      "cell_type": "code",
      "execution_count": 2,
      "metadata": {
        "id": "GHCGNTyrM5fS"
      },
      "outputs": [
        {
          "data": {
            "text/html": [
              "<div>\n",
              "<style scoped>\n",
              "    .dataframe tbody tr th:only-of-type {\n",
              "        vertical-align: middle;\n",
              "    }\n",
              "\n",
              "    .dataframe tbody tr th {\n",
              "        vertical-align: top;\n",
              "    }\n",
              "\n",
              "    .dataframe thead th {\n",
              "        text-align: right;\n",
              "    }\n",
              "</style>\n",
              "<table border=\"1\" class=\"dataframe\">\n",
              "  <thead>\n",
              "    <tr style=\"text-align: right;\">\n",
              "      <th></th>\n",
              "      <th>Agency Name</th>\n",
              "      <th>Position Title</th>\n",
              "      <th>YTD Gross Pay</th>\n",
              "      <th>Cluster</th>\n",
              "    </tr>\n",
              "  </thead>\n",
              "  <tbody>\n",
              "    <tr>\n",
              "      <th>0</th>\n",
              "      <td>AGRICULTURE</td>\n",
              "      <td>ACCOUNTANT</td>\n",
              "      <td>55819.64</td>\n",
              "      <td>1</td>\n",
              "    </tr>\n",
              "    <tr>\n",
              "      <th>1</th>\n",
              "      <td>AGRICULTURE</td>\n",
              "      <td>ACCOUNTS SUPERVISOR</td>\n",
              "      <td>59947.10</td>\n",
              "      <td>1</td>\n",
              "    </tr>\n",
              "    <tr>\n",
              "      <th>2</th>\n",
              "      <td>AGRICULTURE</td>\n",
              "      <td>ACCOUNTS SUPERVISOR</td>\n",
              "      <td>8010.72</td>\n",
              "      <td>1</td>\n",
              "    </tr>\n",
              "    <tr>\n",
              "      <th>3</th>\n",
              "      <td>AGRICULTURE</td>\n",
              "      <td>ADMIN SUPPORT ASSISTANT</td>\n",
              "      <td>13880.70</td>\n",
              "      <td>1</td>\n",
              "    </tr>\n",
              "    <tr>\n",
              "      <th>4</th>\n",
              "      <td>AGRICULTURE</td>\n",
              "      <td>ADMIN SUPPORT ASSISTANT</td>\n",
              "      <td>10455.10</td>\n",
              "      <td>1</td>\n",
              "    </tr>\n",
              "    <tr>\n",
              "      <th>...</th>\n",
              "      <td>...</td>\n",
              "      <td>...</td>\n",
              "      <td>...</td>\n",
              "      <td>...</td>\n",
              "    </tr>\n",
              "    <tr>\n",
              "      <th>71502</th>\n",
              "      <td>TRANSPORTATION</td>\n",
              "      <td>TRANSPORTATION PROJECT MGR</td>\n",
              "      <td>94387.00</td>\n",
              "      <td>0</td>\n",
              "    </tr>\n",
              "    <tr>\n",
              "      <th>71503</th>\n",
              "      <td>TRANSPORTATION</td>\n",
              "      <td>URBAN TRAFFIC SUPERVISOR</td>\n",
              "      <td>38791.20</td>\n",
              "      <td>0</td>\n",
              "    </tr>\n",
              "    <tr>\n",
              "      <th>71504</th>\n",
              "      <td>TRANSPORTATION</td>\n",
              "      <td>URBAN TRAFFIC SUPERVISOR</td>\n",
              "      <td>74517.01</td>\n",
              "      <td>0</td>\n",
              "    </tr>\n",
              "    <tr>\n",
              "      <th>71505</th>\n",
              "      <td>TRANSPORTATION</td>\n",
              "      <td>URBAN TRAFFIC SUPERVISOR</td>\n",
              "      <td>83122.81</td>\n",
              "      <td>0</td>\n",
              "    </tr>\n",
              "    <tr>\n",
              "      <th>71506</th>\n",
              "      <td>TRANSPORTATION</td>\n",
              "      <td>URBAN TRAFFIC SUPERVISOR</td>\n",
              "      <td>54551.27</td>\n",
              "      <td>0</td>\n",
              "    </tr>\n",
              "  </tbody>\n",
              "</table>\n",
              "<p>71507 rows × 4 columns</p>\n",
              "</div>"
            ],
            "text/plain": [
              "          Agency Name              Position Title  YTD Gross Pay  Cluster\n",
              "0         AGRICULTURE                  ACCOUNTANT       55819.64        1\n",
              "1         AGRICULTURE         ACCOUNTS SUPERVISOR       59947.10        1\n",
              "2         AGRICULTURE         ACCOUNTS SUPERVISOR        8010.72        1\n",
              "3         AGRICULTURE     ADMIN SUPPORT ASSISTANT       13880.70        1\n",
              "4         AGRICULTURE     ADMIN SUPPORT ASSISTANT       10455.10        1\n",
              "...               ...                         ...            ...      ...\n",
              "71502  TRANSPORTATION  TRANSPORTATION PROJECT MGR       94387.00        0\n",
              "71503  TRANSPORTATION    URBAN TRAFFIC SUPERVISOR       38791.20        0\n",
              "71504  TRANSPORTATION    URBAN TRAFFIC SUPERVISOR       74517.01        0\n",
              "71505  TRANSPORTATION    URBAN TRAFFIC SUPERVISOR       83122.81        0\n",
              "71506  TRANSPORTATION    URBAN TRAFFIC SUPERVISOR       54551.27        0\n",
              "\n",
              "[71507 rows x 4 columns]"
            ]
          },
          "execution_count": 2,
          "metadata": {},
          "output_type": "execute_result"
        }
      ],
      "source": [
        "data = pd.read_csv(\"hasil_clustering.csv\")\n",
        "data"
      ]
    },
    {
      "cell_type": "markdown",
      "metadata": {
        "id": "KkPem5eWL2UP"
      },
      "source": [
        "# **3. Data Splitting**"
      ]
    },
    {
      "cell_type": "markdown",
      "metadata": {
        "id": "YYj1rl_JNI9Y"
      },
      "source": [
        "Tahap Data Splitting bertujuan untuk memisahkan dataset menjadi dua bagian: data latih (training set) dan data uji (test set)."
      ]
    },
    {
      "cell_type": "code",
      "execution_count": 3,
      "metadata": {},
      "outputs": [
        {
          "data": {
            "text/plain": [
              "Index(['Ethnicity', 'Smoking_Status', 'Air_Quality_Index', 'Income_Level'], dtype='object')"
            ]
          },
          "execution_count": 3,
          "metadata": {},
          "output_type": "execute_result"
        }
      ],
      "source": [
        "data.select_dtypes(include=[\"object\"]).columns"
      ]
    },
    {
      "cell_type": "code",
      "execution_count": 3,
      "metadata": {},
      "outputs": [
        {
          "data": {
            "text/html": [
              "<div>\n",
              "<style scoped>\n",
              "    .dataframe tbody tr th:only-of-type {\n",
              "        vertical-align: middle;\n",
              "    }\n",
              "\n",
              "    .dataframe tbody tr th {\n",
              "        vertical-align: top;\n",
              "    }\n",
              "\n",
              "    .dataframe thead th {\n",
              "        text-align: right;\n",
              "    }\n",
              "</style>\n",
              "<table border=\"1\" class=\"dataframe\">\n",
              "  <thead>\n",
              "    <tr style=\"text-align: right;\">\n",
              "      <th></th>\n",
              "      <th>Agency Name</th>\n",
              "      <th>Position Title</th>\n",
              "      <th>YTD Gross Pay</th>\n",
              "      <th>Cluster</th>\n",
              "    </tr>\n",
              "  </thead>\n",
              "  <tbody>\n",
              "    <tr>\n",
              "      <th>0</th>\n",
              "      <td>0</td>\n",
              "      <td>4</td>\n",
              "      <td>55819.64</td>\n",
              "      <td>1</td>\n",
              "    </tr>\n",
              "    <tr>\n",
              "      <th>1</th>\n",
              "      <td>0</td>\n",
              "      <td>22</td>\n",
              "      <td>59947.10</td>\n",
              "      <td>1</td>\n",
              "    </tr>\n",
              "    <tr>\n",
              "      <th>2</th>\n",
              "      <td>0</td>\n",
              "      <td>22</td>\n",
              "      <td>8010.72</td>\n",
              "      <td>1</td>\n",
              "    </tr>\n",
              "    <tr>\n",
              "      <th>3</th>\n",
              "      <td>0</td>\n",
              "      <td>39</td>\n",
              "      <td>13880.70</td>\n",
              "      <td>1</td>\n",
              "    </tr>\n",
              "    <tr>\n",
              "      <th>4</th>\n",
              "      <td>0</td>\n",
              "      <td>39</td>\n",
              "      <td>10455.10</td>\n",
              "      <td>1</td>\n",
              "    </tr>\n",
              "  </tbody>\n",
              "</table>\n",
              "</div>"
            ],
            "text/plain": [
              "   Agency Name  Position Title  YTD Gross Pay  Cluster\n",
              "0            0               4       55819.64        1\n",
              "1            0              22       59947.10        1\n",
              "2            0              22        8010.72        1\n",
              "3            0              39       13880.70        1\n",
              "4            0              39       10455.10        1"
            ]
          },
          "execution_count": 3,
          "metadata": {},
          "output_type": "execute_result"
        }
      ],
      "source": [
        "# Label Encoding\n",
        "label_encoder = LabelEncoder()\n",
        "\n",
        "categorical_columns = data.select_dtypes(include=[\"object\"]).columns\n",
        "for column in categorical_columns:\n",
        "    data[column] = label_encoder.fit_transform(data[column])\n",
        "\n",
        "data.head()"
      ]
    },
    {
      "cell_type": "code",
      "execution_count": 4,
      "metadata": {},
      "outputs": [
        {
          "data": {
            "text/plain": [
              "((57205, 3), (14302, 3), (57205,), (14302,))"
            ]
          },
          "execution_count": 4,
          "metadata": {},
          "output_type": "execute_result"
        }
      ],
      "source": [
        "X = data.drop(columns=\"Cluster\")\n",
        "y = data[\"Cluster\"]\n",
        "X_train, X_val, y_train, y_val = train_test_split(X, y, test_size=0.2, stratify=y, random_state=42)\n",
        "X_train.shape, X_val.shape, y_train.shape, y_val.shape"
      ]
    },
    {
      "cell_type": "markdown",
      "metadata": {
        "id": "IVPbB03CMhTT"
      },
      "source": [
        "# **4. Membangun Model Klasifikasi**\n"
      ]
    },
    {
      "cell_type": "markdown",
      "metadata": {
        "id": "Ned1pL9zMmBK"
      },
      "source": [
        "## **a. Membangun Model Klasifikasi**"
      ]
    },
    {
      "cell_type": "markdown",
      "metadata": {
        "id": "WAWzPOE4Nkti"
      },
      "source": [
        "Setelah memilih algoritma klasifikasi yang sesuai, langkah selanjutnya adalah melatih model menggunakan data latih.\n",
        "\n",
        "Berikut adalah rekomendasi tahapannya.\n",
        "1. Pilih algoritma klasifikasi yang sesuai, seperti Logistic Regression, Decision Tree, Random Forest, atau K-Nearest Neighbors (KNN).\n",
        "2. Latih model menggunakan data latih."
      ]
    },
    {
      "cell_type": "code",
      "execution_count": 5,
      "metadata": {},
      "outputs": [
        {
          "data": {
            "text/plain": [
              "Index(['Agency Name', 'Position Title', 'YTD Gross Pay'], dtype='object')"
            ]
          },
          "execution_count": 5,
          "metadata": {},
          "output_type": "execute_result"
        }
      ],
      "source": [
        "X_train.columns"
      ]
    },
    {
      "cell_type": "code",
      "execution_count": 6,
      "metadata": {
        "id": "4JYxBe87NLDk"
      },
      "outputs": [],
      "source": [
        "preprocessor = ColumnTransformer([\n",
        "    ('numeric', num_pipe(scaling=\"minmax\"), ['Agency Name', 'Position Title', 'YTD Gross Pay']),\n",
        "    # ('categoric', cat_pipe(encoder=\"onehot\"), ['Ethnicity', 'Smoking_Status', 'Income_Level'])\n",
        "])"
      ]
    },
    {
      "cell_type": "code",
      "execution_count": 10,
      "metadata": {},
      "outputs": [
        {
          "name": "stdout",
          "output_type": "stream",
          "text": [
            "Pipeline(steps=[('prep',\n",
            "                 ColumnTransformer(transformers=[('numeric',\n",
            "                                                  Pipeline(steps=[('imputer',\n",
            "                                                                   SimpleImputer(strategy='median')),\n",
            "                                                                  ('scaler',\n",
            "                                                                   MinMaxScaler())]),\n",
            "                                                  ['Agency Name',\n",
            "                                                   'Position Title',\n",
            "                                                   'YTD Gross Pay'])])),\n",
            "                ('algo', KNeighborsClassifier(n_neighbors=3))])\n",
            "0.99973778515864\n",
            "0.999160956509579\n"
          ]
        }
      ],
      "source": [
        "knn = Pipeline([\n",
        "    (\"prep\", preprocessor),\n",
        "    (\"algo\", KNeighborsClassifier(n_neighbors=3))\n",
        "])\n",
        "\n",
        "print(knn.fit(X_train, y_train))\n",
        "print(knn.score(X_train, y_train))\n",
        "print(knn.score(X_val, y_val))"
      ]
    },
    {
      "cell_type": "code",
      "execution_count": 8,
      "metadata": {},
      "outputs": [
        {
          "name": "stdout",
          "output_type": "stream",
          "text": [
            "Pipeline(steps=[('prep',\n",
            "                 ColumnTransformer(transformers=[('numeric',\n",
            "                                                  Pipeline(steps=[('imputer',\n",
            "                                                                   SimpleImputer(strategy='median')),\n",
            "                                                                  ('scaler',\n",
            "                                                                   MinMaxScaler())]),\n",
            "                                                  ['Agency Name',\n",
            "                                                   'Position Title',\n",
            "                                                   'YTD Gross Pay'])])),\n",
            "                ('algo', RandomForestClassifier())])\n",
            "1.0\n",
            "1.0\n"
          ]
        }
      ],
      "source": [
        "rf = Pipeline([\n",
        "    (\"prep\", preprocessor),\n",
        "    (\"algo\", RandomForestClassifier(n_estimators=100))\n",
        "])\n",
        "\n",
        "print(rf.fit(X_train, y_train))\n",
        "print(rf.score(X_train, y_train))\n",
        "print(rf.score(X_val, y_val))"
      ]
    },
    {
      "cell_type": "markdown",
      "metadata": {
        "id": "seYoHNY3XU1y"
      },
      "source": [
        "Tulis narasi atau penjelasan algoritma yang Anda gunakan."
      ]
    },
    {
      "cell_type": "markdown",
      "metadata": {
        "id": "ergzChZFEL-O"
      },
      "source": [
        "## **b. Evaluasi Model Klasifikasi**"
      ]
    },
    {
      "cell_type": "markdown",
      "metadata": {
        "id": "zOm68u-7NpLT"
      },
      "source": [
        "Berikut adalah **rekomendasi** tahapannya.\n",
        "1. Lakukan prediksi menggunakan data uji.\n",
        "2. Hitung metrik evaluasi seperti Accuracy dan F1-Score (Opsional: Precision dan Recall).\n",
        "3. Buat confusion matrix untuk melihat detail prediksi benar dan salah."
      ]
    },
    {
      "cell_type": "code",
      "execution_count": 11,
      "metadata": {},
      "outputs": [
        {
          "name": "stdout",
          "output_type": "stream",
          "text": [
            "KNN Evaluation : \n",
            "Classification Report:\n",
            "              precision    recall  f1-score   support\n",
            "\n",
            "           0       1.00      1.00      1.00      7312\n",
            "           1       1.00      1.00      1.00      6990\n",
            "\n",
            "    accuracy                           1.00     14302\n",
            "   macro avg       1.00      1.00      1.00     14302\n",
            "weighted avg       1.00      1.00      1.00     14302\n",
            "\n",
            "\n",
            "Confusion Matrix KNN :\n",
            "[[7308    4]\n",
            " [   8 6982]]\n",
            "KNN Evaluation :\n",
            "Precision (macro): 0.9992\n",
            "Recall (macro): 0.9992\n",
            "F1-Score (macro): 0.9992\n",
            "\n",
            "\n",
            "Random Forest Evaluation : \n",
            "Classification Report:\n",
            "              precision    recall  f1-score   support\n",
            "\n",
            "           0       1.00      1.00      1.00      7312\n",
            "           1       1.00      1.00      1.00      6990\n",
            "\n",
            "    accuracy                           1.00     14302\n",
            "   macro avg       1.00      1.00      1.00     14302\n",
            "weighted avg       1.00      1.00      1.00     14302\n",
            "\n",
            "\n",
            "Confusion Matrix Random Forest :\n",
            "[[7312    0]\n",
            " [   0 6990]]\n",
            "\n",
            "Random Forest Evaluation :\n",
            "Precision (macro): 1.0000\n",
            "Recall (macro): 1.0000\n",
            "F1-Score (macro): 1.0000\n"
          ]
        }
      ],
      "source": [
        "print(\"KNN Evaluation : \")\n",
        "y_val_pred_knn = knn.predict(X_val)\n",
        "report_knn = classification_report(y_val, y_val_pred_knn)\n",
        "print(\"Classification Report:\")\n",
        "print(report_knn)\n",
        "\n",
        "cm_knn = confusion_matrix(y_val, y_val_pred_knn)\n",
        "print(\"\\nConfusion Matrix KNN :\")\n",
        "print(cm_knn)\n",
        "print(\"KNN Evaluation :\")\n",
        "print(f\"Precision (macro): {precision_score(y_val, y_val_pred_knn, average='macro', zero_division=0):.4f}\")\n",
        "print(f\"Recall (macro): {recall_score(y_val, y_val_pred_knn, average='macro'):.4f}\")\n",
        "print(f\"F1-Score (macro): {f1_score(y_val, y_val_pred_knn, average='macro', zero_division=0):.4f}\")\n",
        "\n",
        "\n",
        "print(\"\\n\")\n",
        "print(\"Random Forest Evaluation : \")\n",
        "y_val_pred_rf = rf.predict(X_val)\n",
        "report_rf = classification_report(y_val, y_val_pred_rf)\n",
        "print(\"Classification Report:\")\n",
        "print(report_rf)\n",
        "\n",
        "cm_rf = confusion_matrix(y_val, y_val_pred_rf)\n",
        "print(\"\\nConfusion Matrix Random Forest :\")\n",
        "print(cm_rf)\n",
        "print(\"\\nRandom Forest Evaluation :\")\n",
        "print(f\"Precision (macro): {precision_score(y_val, y_val_pred_rf, average='macro', zero_division=0):.4f}\")\n",
        "print(f\"Recall (macro): {recall_score(y_val, y_val_pred_rf, average='macro'):.4f}\")\n",
        "print(f\"F1-Score (macro): {f1_score(y_val, y_val_pred_rf, average='macro', zero_division=0):.4f}\")"
      ]
    },
    {
      "cell_type": "markdown",
      "metadata": {},
      "source": [
        "| **Model**         | **Accuracy** | **F1-Score** | **Precision** | **Recall** |\n",
        "|--------------------|--------------|--------------|---------------|------------|\n",
        "| **KNN**            | 1.00        | \t0.9992    | \t0.9992         | 0.9992      |\n",
        "| **Random Forest**  | 1.00         | 1.0000        | 1.0000          | 1.0000       |"
      ]
    },
    {
      "cell_type": "markdown",
      "metadata": {},
      "source": [
        "**Analisis Perbandingan**\n",
        "\n",
        "**1. Accuracy**\n",
        "- Random Forest memiliki Accuracy sempurna (1.00), yang menunjukkan bahwa model ini berhasil memprediksi semua sampel dengan benar. Ini adalah hasil yang sangat baik, tetapi perlu diwaspadai kemungkinan overfitting.\n",
        "- KNN juga memiliki Accuracy sempurna (1.00), yang menunjukkan bahwa model ini juga berhasil memprediksi semua sampel dengan benar. Namun, seperti Random Forest, hasil yang sempurna ini perlu diwaspadai karena kemungkinan overfitting.\n",
        "\n",
        "**2. F1-Score**\n",
        "- Random Forest memiliki F1-Score sempurna (1.0000), yang menunjukkan keseimbangan sempurna antara Precision dan Recall. Ini berarti model ini sangat baik dalam memprediksi semua kelas.\n",
        "- KNN memiliki F1-Score yang sangat tinggi (0.9992), yang menunjukkan performa yang hampir sempurna tetapi sedikit lebih rendah dibandingkan Random Forest.\n",
        "\n",
        "**3. Precision**\n",
        "- Random Forest memiliki Precision sempurna (1.0000), yang berarti tidak ada prediksi salah untuk kelas positif.\n",
        "- KNN memiliki Precision yang sangat tinggi (0.9992), yang menunjukkan bahwa model ini hampir tidak memiliki kesalahan dalam memprediksi kelas positif.\n",
        "\n",
        "**4. Recall**\n",
        "- Random Forest memiliki Recall sempurna (1.0000), yang berarti semua instance positif terdeteksi dengan benar.\n",
        "- KNN memiliki Recall yang sangat tinggi (0.9992), yang menunjukkan bahwa model ini hampir tidak melewatkan instance positif.\n",
        "\n",
        "**Kesimpulan Perbandingan**\n",
        "- Random Forest memberikan hasil yang sempurna untuk semua metrik, sehingga dapat dikatakan sebagai model terbaik dalam kasus ini. Namun, hasil yang sempurna ini perlu diwaspadai karena kemungkinan overfitting.\n",
        "- KNN juga memberikan performa yang hampir sempurna tetapi sedikit lebih rendah dibandingkan Random Forest. Untuk dataset atau skenario lain, model ini mungkin perlu penyesuaian parameter atau metode tambahan untuk meningkatkan performa."
      ]
    },
    {
      "cell_type": "markdown",
      "metadata": {
        "id": "H4_9OwrsXZlz"
      },
      "source": [
        "Tulis hasil evaluasi algoritma yang digunakan, jika Anda menggunakan 2 algoritma, maka bandingkan hasilnya."
      ]
    },
    {
      "cell_type": "markdown",
      "metadata": {
        "id": "ph9yIYDXEPuB"
      },
      "source": [
        "## **c. Tuning Model Klasifikasi (Optional)**"
      ]
    },
    {
      "cell_type": "markdown",
      "metadata": {
        "id": "-Bikx3LINv5e"
      },
      "source": [
        "Gunakan GridSearchCV, RandomizedSearchCV, atau metode lainnya untuk mencari kombinasi hyperparameter terbaik"
      ]
    },
    {
      "cell_type": "markdown",
      "metadata": {},
      "source": [
        "#### Menggunakan Hyperparameter RandomizedSearchCV"
      ]
    },
    {
      "cell_type": "markdown",
      "metadata": {
        "id": "hE7pqlEPEYzI"
      },
      "source": [
        "## **d. Evaluasi Model Klasifikasi setelah Tuning (Optional)**"
      ]
    },
    {
      "cell_type": "markdown",
      "metadata": {
        "id": "feaPESoeN0zz"
      },
      "source": [
        "Berikut adalah rekomendasi tahapannya.\n",
        "1. Gunakan model dengan hyperparameter terbaik.\n",
        "2. Hitung ulang metrik evaluasi untuk melihat apakah ada peningkatan performa."
      ]
    },
    {
      "cell_type": "markdown",
      "metadata": {
        "id": "ZRsOdm4uEgAW"
      },
      "source": [
        "## **e. Analisis Hasil Evaluasi Model Klasifikasi**"
      ]
    },
    {
      "cell_type": "markdown",
      "metadata": {
        "id": "Hm3BhSi6N4_l"
      },
      "source": [
        "Berikut adalah **rekomendasi** tahapannya.\n",
        "1. Bandingkan hasil evaluasi sebelum dan setelah tuning (jika dilakukan).\n",
        "2. Identifikasi kelemahan model, seperti:\n",
        "  - Precision atau Recall rendah untuk kelas tertentu.\n",
        "  - Apakah model mengalami overfitting atau underfitting?\n",
        "3. Berikan rekomendasi tindakan lanjutan, seperti mengumpulkan data tambahan atau mencoba algoritma lain jika hasil belum memuaskan."
      ]
    },
    {
      "cell_type": "markdown",
      "metadata": {},
      "source": [
        "**Berdasarkan hasil evaluasi model yang diberikan, berikut adalah analisis kelemahan model, identifikasi overfitting/underfitting, dan rekomendasi tindakan lanjutan :**\n",
        "\n",
        "**1. Analisis Kelemahan Model**\n",
        "\n",
        "- **KNN**\n",
        "    - **Precision: 0.9992**\n",
        "        - Precision sudah sangat tinggi, tetapi masih ada sedikit ruang untuk meningkatkan kemampuan model dalam meminimalkan prediksi salah pada beberapa kelas.\n",
        "    - **Recall: 0.9992**\n",
        "        - Recall mendekati tinggi, tetapi tidak sebaik performa dari Random Forest..\n",
        "    - **F1-Score: 0.9992**\n",
        "        - F1-Score menunjukkan bahwa meskipun performa KNN sangat baik, model ini cenderung lebih sensitif terhadap perubahan pada distribusi data dibandingkan model berbasis pohon.\n",
        "\n",
        "- **Random Forest**\n",
        "    - **Precision, Recall, dan F1-Score: 1.0000**\n",
        "        - Model ini tidak menunjukkan kelemahan yang berarti dalam hasil yang diperoleh. Namun, kemungkinan overfitting dapat menjadi perhatian karena akurasi sempurna di dataset validasi mungkin tidak mencerminkan performa yang sama di dataset baru."
      ]
    },
    {
      "cell_type": "markdown",
      "metadata": {},
      "source": [
        "**2. Identifikasi Overfitting atau Underfitting**\n",
        "\n",
        "- **KNN**\n",
        "    - **Train Score: 0.99973778515864**\n",
        "    - **Test Score: 0.999160956509579**\n",
        "    - **Analisis:**\n",
        "        - Perbedaan antara train score dan test score sangat kecil, yaitu sekitar 0.000577. Ini menunjukkan bahwa model KNN tidak mengalami overfitting yang signifikan.\n",
        "        - Test score yang sangat tinggi (0.99916) menunjukkan bahwa model KNN mampu menangkap pola data dengan sangat baik dan memiliki kemampuan generalisasi yang baik.\n",
        "        - Meskipun test score sangat tinggi, jika dataset ini relatif sederhana atau memiliki fitur yang sangat informatif, performa yang hampir sempurna ini mungkin tidak menunjukkan underfitting. Namun, jika dataset lebih kompleks, KNN mungkin kurang mampu menangkap pola yang lebih kompleks, mengindikasikan potensi underfitting.\n",
        "    - **Kesimpulan: Model KNN tidak menunjukkan overfitting, tetapi ada kemungkinan underfitting jika dataset lebih kompleks daripada yang terlihat.**\n",
        "\n",
        "- **Random Forest**\n",
        "    - **Train Score: 1.0**\n",
        "    - **Test Score: 1.0**\n",
        "    - **Analisis:**\n",
        "        - Tidak ada perbedaan antara train score dan test score, yang menunjukkan bahwa model memiliki performa sempurna pada kedua dataset.\n",
        "        - Dataset yang relatif sederhana atau memiliki fitur yang sangat informatif atau Model Random Forest yang sangat kuat dan mampu mempelajari pola data dengan sempurna..\n",
        "        - Meskipun tidak ada perbedaan antara train score dan test score, performa sempurna seperti ini jarang terjadi pada dataset dunia nyata yang lebih kompleks dan berisik. Oleh karena itu, perlu diwaspadai kemungkinan overfitting, terutama jika dataset yang digunakan tidak representatif atau terlalu kecil.\n",
        "    - **Model Random Forest tidak menunjukkan tanda-tanda overfitting atau underfitting pada dataset ini, tetapi perlu diuji pada dataset baru untuk memastikan generalisasi yang baik.**"
      ]
    },
    {
      "cell_type": "markdown",
      "metadata": {},
      "source": [
        "**3. Rekomendasi Tindakan Lanjutan**\n",
        "\n",
        "- **Untuk KNN (Kemungkinan Underfitting)**\n",
        "    -  **Verifikasi Generalisasi :**\n",
        "        - Uji model pada dataset baru yang belum pernah dilihat selama pelatihan atau pengujian. Ini untuk memastikan bahwa model dapat generalisasi dengan baik ke data baru.\n",
        "    - **Periksa Kompleksitas Dataset :**\n",
        "        - ika dataset relatif sederhana, performa yang hampir sempurna mungkin wajar. Namun, jika dataset lebih kompleks, pertimbangkan untuk meningkatkan kompleksitas model KNN (misalnya, dengan menyesuaikan hyperparameter seperti n_neighbors atau menggunakan metrik jarang yang berbeda).\n",
        "    - **Evaluasi Fitur :**\n",
        "        - Pastikan fitur yang digunakan sudah optimal. Jika perlu, lakukan feature engineering untuk meningkatkan kualitas fitur.\n",
        "\n",
        "- **Untuk Random Forest (Tidak Overfitting/Underfitting)**\n",
        "    - **Verifikasi Generalisasi :**\n",
        "        - Uji model pada dataset baru yang belum pernah dilihat selama pelatihan atau pengujian. Ini untuk memastikan bahwa model dapat generalisasi dengan baik ke data baru.\n",
        "    - **Periksa Distribusi Data :**\n",
        "        - Pastikan bahwa data pelatihan dan data uji memiliki distribusi yang serupa. Jika data uji terlalu mirip dengan data pelatihan, performa sempurna mungkin tidak mencerminkan kemampuan generalisasi yang sebenarnya.\n",
        "    - **Pertahankan Kompleksitas Model :**\n",
        "        - Karena model sudah menunjukkan performa yang sangat baik, tidak perlu melakukan perubahan besar. Namun, tetap pantau performa saat diimplementasikan pada data baru."
      ]
    },
    {
      "cell_type": "markdown",
      "metadata": {},
      "source": []
    }
  ],
  "metadata": {
    "colab": {
      "provenance": []
    },
    "kernelspec": {
      "display_name": "Python 3",
      "name": "python3"
    },
    "language_info": {
      "codemirror_mode": {
        "name": "ipython",
        "version": 3
      },
      "file_extension": ".py",
      "mimetype": "text/x-python",
      "name": "python",
      "nbconvert_exporter": "python",
      "pygments_lexer": "ipython3",
      "version": "3.12.4"
    }
  },
  "nbformat": 4,
  "nbformat_minor": 0
}
